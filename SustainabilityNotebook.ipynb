{
  "nbformat": 4,
  "nbformat_minor": 0,
  "metadata": {
    "kernelspec": {
      "display_name": "Python 3",
      "language": "python",
      "name": "python3"
    },
    "language_info": {
      "codemirror_mode": {
        "name": "ipython",
        "version": 3
      },
      "file_extension": ".py",
      "mimetype": "text/x-python",
      "name": "python",
      "nbconvert_exporter": "python",
      "pygments_lexer": "ipython3",
      "version": "3.6.0"
    },
    "colab": {
      "provenance": [],
      "toc_visible": true,
      "include_colab_link": true
    }
  },
  "cells": [
    {
      "cell_type": "markdown",
      "metadata": {
        "id": "view-in-github",
        "colab_type": "text"
      },
      "source": [
        "<a href=\"https://colab.research.google.com/github/beatriceghetel/Iriarte_School_of_Tourism_Sustainability_Project/blob/main/SustainabilityNotebook.ipynb\" target=\"_parent\"><img src=\"https://colab.research.google.com/assets/colab-badge.svg\" alt=\"Open In Colab\"/></a>"
      ]
    },
    {
      "cell_type": "markdown",
      "metadata": {
        "id": "zSIhZz0iDaG6"
      },
      "source": [
        "# Sustainability Notebook"
      ]
    },
    {
      "cell_type": "markdown",
      "metadata": {
        "id": "IsOGMmnlDaHA"
      },
      "source": [
        "## Setup"
      ]
    },
    {
      "cell_type": "markdown",
      "metadata": {
        "id": "gGL8QAOHbsiM"
      },
      "source": [
        "### Install needed libraries"
      ]
    },
    {
      "cell_type": "code",
      "metadata": {
        "colab": {
          "base_uri": "https://localhost:8080/"
        },
        "id": "E__JoL43Dm8R",
        "outputId": "5d18848f-c53d-4b7f-99ce-4122f1bcbdcf"
      },
      "source": [
        "!pip install nltk\n",
        "!pip install PyPDF2\n",
        "!pip install matplotlib"
      ],
      "execution_count": null,
      "outputs": [
        {
          "output_type": "stream",
          "name": "stdout",
          "text": [
            "Requirement already satisfied: nltk in /usr/local/lib/python3.7/dist-packages (3.2.5)\n",
            "Requirement already satisfied: six in /usr/local/lib/python3.7/dist-packages (from nltk) (1.15.0)\n",
            "Collecting PyPDF2\n",
            "  Downloading PyPDF2-1.26.0.tar.gz (77 kB)\n",
            "\u001b[K     |████████████████████████████████| 77 kB 2.9 MB/s \n",
            "\u001b[?25hBuilding wheels for collected packages: PyPDF2\n",
            "  Building wheel for PyPDF2 (setup.py) ... \u001b[?25l\u001b[?25hdone\n",
            "  Created wheel for PyPDF2: filename=PyPDF2-1.26.0-py3-none-any.whl size=61101 sha256=2cd9a720b1933b4146b4f20b73d791e08a1d512c1950248fca5ea0257b7a419e\n",
            "  Stored in directory: /root/.cache/pip/wheels/80/1a/24/648467ade3a77ed20f35cfd2badd32134e96dd25ca811e64b3\n",
            "Successfully built PyPDF2\n",
            "Installing collected packages: PyPDF2\n",
            "Successfully installed PyPDF2-1.26.0\n",
            "Requirement already satisfied: matplotlib in /usr/local/lib/python3.7/dist-packages (3.2.2)\n",
            "Requirement already satisfied: numpy>=1.11 in /usr/local/lib/python3.7/dist-packages (from matplotlib) (1.19.5)\n",
            "Requirement already satisfied: python-dateutil>=2.1 in /usr/local/lib/python3.7/dist-packages (from matplotlib) (2.8.2)\n",
            "Requirement already satisfied: pyparsing!=2.0.4,!=2.1.2,!=2.1.6,>=2.0.1 in /usr/local/lib/python3.7/dist-packages (from matplotlib) (2.4.7)\n",
            "Requirement already satisfied: kiwisolver>=1.0.1 in /usr/local/lib/python3.7/dist-packages (from matplotlib) (1.3.2)\n",
            "Requirement already satisfied: cycler>=0.10 in /usr/local/lib/python3.7/dist-packages (from matplotlib) (0.10.0)\n",
            "Requirement already satisfied: six in /usr/local/lib/python3.7/dist-packages (from cycler>=0.10->matplotlib) (1.15.0)\n"
          ]
        }
      ]
    },
    {
      "cell_type": "markdown",
      "metadata": {
        "id": "5e2KRy7pbvdj"
      },
      "source": [
        "### Import required modules"
      ]
    },
    {
      "cell_type": "code",
      "metadata": {
        "id": "bSZfMm_eDaHB"
      },
      "source": [
        "import nltk\n",
        "from nltk import FreqDist\n",
        "from nltk.corpus import stopwords\n",
        "\n",
        "import PyPDF2\n",
        "import pandas as pd\n",
        "\n",
        "import re\n",
        "\n",
        "import matplotlib.pyplot as plt\n",
        "from wordcloud import WordCloud, ImageColorGenerator"
      ],
      "execution_count": null,
      "outputs": []
    },
    {
      "cell_type": "markdown",
      "metadata": {
        "id": "TJUD2hMCF2pi"
      },
      "source": [
        "### Download additional packages"
      ]
    },
    {
      "cell_type": "code",
      "metadata": {
        "colab": {
          "base_uri": "https://localhost:8080/"
        },
        "id": "yUQztPyGFlbl",
        "outputId": "04dd55e9-d33e-4d36-d75e-b8c6aceba965"
      },
      "source": [
        "nltk.download('wordnet')\n",
        "nltk.download('stopwords')"
      ],
      "execution_count": null,
      "outputs": [
        {
          "output_type": "stream",
          "name": "stdout",
          "text": [
            "[nltk_data] Downloading package wordnet to /root/nltk_data...\n",
            "[nltk_data]   Unzipping corpora/wordnet.zip.\n",
            "[nltk_data] Downloading package stopwords to /root/nltk_data...\n",
            "[nltk_data]   Unzipping corpora/stopwords.zip.\n"
          ]
        },
        {
          "output_type": "execute_result",
          "data": {
            "text/plain": [
              "True"
            ]
          },
          "metadata": {},
          "execution_count": 4
        }
      ]
    },
    {
      "cell_type": "markdown",
      "metadata": {
        "id": "7HJNYx3bhJ2P"
      },
      "source": [
        "## Prepare the data"
      ]
    },
    {
      "cell_type": "markdown",
      "metadata": {
        "id": "-4xqPz0tb4o8"
      },
      "source": [
        "In order to easily perform counting operations we should perform some operations with the input PDF:\n",
        "\n",
        "\n",
        "1.   Extract plain text from input PDFs\n",
        "2.   Perform Text Mining operations:\n",
        "    * Tokenize\n",
        "    * Normalization (we skip the Lemmatization because it produces invalid root words)\n",
        "    * Actual statistics\n",
        "\n",
        "\n",
        "\n"
      ]
    },
    {
      "cell_type": "markdown",
      "metadata": {
        "id": "cuGocqmUsBlc"
      },
      "source": [
        "### 1. Extract text contents from PDFs"
      ]
    },
    {
      "cell_type": "code",
      "metadata": {
        "colab": {
          "base_uri": "https://localhost:8080/"
        },
        "id": "5-2w7UNLgTnk",
        "outputId": "0f87601a-26a6-41d4-da94-116bd55ea001"
      },
      "source": [
        "pdfFileObject = open(r\"AXA_annual_report_2020.pdf\", 'rb')\n",
        "\n",
        "pdfReader = PyPDF2.PdfFileReader(pdfFileObject)\n",
        "pdf_pages_count = pdfReader.numPages\n",
        "print(\"Total pages to be processed:\", pdf_pages_count)\n",
        "\n",
        "pdf_text = \"\"\n",
        "for page_number in range (0, pdf_pages_count):\n",
        "  # Grab a new page from the PDF and lowercase all words\n",
        "  current_page_text = pdfReader.getPage(page_number).extractText().lower()\n",
        "  # # Ensure UTF8 format\n",
        "  # current_page_text = current_page_text.decode('utf8')\n",
        "  # Replace \\n and \\t to avoid situations like this 'REPORT\\nCONTENTS' when splitting into tokens\n",
        "  current_page_text = current_page_text.replace('\\n', ' ').replace('\\t', ' ')\n",
        "  # Replace useless symbols [+ . , : ( ) [ ] > < / ]\n",
        "  current_page_text = current_page_text.replace('+', ' ').replace('.', ' ').replace(',', ' ').replace(':', ' ').replace('(', ' ').replace(')', ' '.replace('[', ' ')).replace(']', ' ').replace('>', ' ').replace('<', ' ').replace('/', ' ')\n",
        "  # Eliminate numerical data\n",
        "  current_page_text = re.sub(\"(\\d+)\", \" \", current_page_text)\n",
        "  pdf_text += current_page_text\n",
        "\n",
        "print(\"The first characters extracted from the PDF:\", pdf_text[0:250])\n",
        "print(\"The last characters extracted from the PDF:\", pdf_text[-250:])\n",
        "\n",
        "pdfFileObject.close()"
      ],
      "execution_count": null,
      "outputs": [
        {
          "output_type": "stream",
          "name": "stderr",
          "text": [
            "PdfReadWarning: Xref table not zero-indexed. ID numbers for objects will be corrected. [pdf.py:1736]\n"
          ]
        },
        {
          "output_type": "stream",
          "name": "stdout",
          "text": [
            "Total pages to be processed: 488\n",
            "The first characters extracted from the PDF: universal  registration  document     annual financial report contents  certain preliminary information about this annual report  chairman’s message    chief executiv icer’s message       the axa group        key figures        history        busines\n",
            "The last characters extracted from the PDF: website at www axa com on which you will ﬁ nd aggregate  regulated information published by  our company  photos  © franck juery  benjamin boccas   this document is printed in compliance with iso     for an environment management system  www axa com \n"
          ]
        }
      ]
    },
    {
      "cell_type": "markdown",
      "metadata": {
        "id": "Tgp9ykoTDwEp"
      },
      "source": [
        "### Tokenize"
      ]
    },
    {
      "cell_type": "markdown",
      "metadata": {
        "id": "X7MpkhPg_Foo"
      },
      "source": [
        "The minimum word length can be lower than 3, in order to filter blanks, punctuation or connection words like 'or'. However if we increment it a bit it adds a huge optimization to the time needed for further processing and elimination of the other complex stopwords using NLTK (previous to the tricks done, the process of eliminating the stopwords was running until timing out). Hence, better keep it at > 3."
      ]
    },
    {
      "cell_type": "code",
      "metadata": {
        "colab": {
          "base_uri": "https://localhost:8080/"
        },
        "id": "fzDAXyz7DxxK",
        "outputId": "4d34bd9c-5c4e-4f72-b4c6-512bfbefd264"
      },
      "source": [
        "MIN_WORD_LENGTH_FILTER = 3\n",
        "\n",
        "split_pdf_text = pdf_text.split(' ');\n",
        "text_words = [w.strip() for w in split_pdf_text if len(w) > MIN_WORD_LENGTH_FILTER]\n",
        "\n",
        "print(\"Extracted words count: \", len(text_words))\n",
        "print(\"Extracted unique words count: \", len(set(text_words)))\n",
        "print(\"Preview first 10 extracted words: \", text_words[:10])"
      ],
      "execution_count": null,
      "outputs": [
        {
          "output_type": "stream",
          "name": "stdout",
          "text": [
            "Extracted words count:  139532\n",
            "Extracted unique words count:  11986\n",
            "Preview first 10 extracted words:  ['universal', 'registration', 'document', 'annual', 'financial', 'report', 'contents', 'certain', 'preliminary', 'information']\n"
          ]
        }
      ]
    },
    {
      "cell_type": "markdown",
      "metadata": {
        "id": "Gb-5BVhbK7fU"
      },
      "source": [
        "###Set top N value"
      ]
    },
    {
      "cell_type": "markdown",
      "metadata": {
        "id": "nky_kggUK_FT"
      },
      "source": [
        "We will create some charts with most frequent words that appear in the document, please set here the N number. It should be larger than 20 for better results."
      ]
    },
    {
      "cell_type": "code",
      "metadata": {
        "id": "AP5XzzbJLLfj"
      },
      "source": [
        "top_N = 20"
      ],
      "execution_count": null,
      "outputs": []
    },
    {
      "cell_type": "markdown",
      "metadata": {
        "id": "2AR8H_38AQAu"
      },
      "source": [
        "Checking the top N words of what we have filtered up until this moment we already see an improvement (we don't find 'and', 'the', 'or' etc. However we need to apply Python's NLTK stopwords list to rule out the remaining stopwords and keep only those words that might bring value to our statistics."
      ]
    },
    {
      "cell_type": "code",
      "metadata": {
        "colab": {
          "base_uri": "https://localhost:8080/"
        },
        "id": "UlB_b7uH7m4Q",
        "outputId": "4eab1b38-0fe9-4282-90c2-ae145ef053f0"
      },
      "source": [
        "words_frequency = FreqDist(text_words)\n",
        "popular_words = sorted(words_frequency, key = words_frequency.get, reverse = True)\n",
        "top_words = popular_words[:top_N]\n",
        "print(top_words)"
      ],
      "execution_count": null,
      "outputs": [
        {
          "output_type": "stream",
          "name": "stdout",
          "text": [
            "['with', 'financial', 'group', 'report', 'from', 'value', 'risk', 'annual', 'insurance', 'that', 'this', 'other', 'which', 'management', 'investment', 'assets', 'business', 'board', 'million', 'document']\n"
          ]
        }
      ]
    },
    {
      "cell_type": "markdown",
      "metadata": {
        "id": "aGV9c9b7rVDd"
      },
      "source": [
        "### Remove stopwords"
      ]
    },
    {
      "cell_type": "code",
      "metadata": {
        "colab": {
          "base_uri": "https://localhost:8080/"
        },
        "id": "8-bjw07_rXTt",
        "outputId": "9b900adb-cf51-442f-daf0-ee79958c0849"
      },
      "source": [
        "pattern = re.compile(r'\\b(' + r'|'.join(stopwords.words('english')) + r')\\b\\s*')\n",
        "filtered_text_words = pattern.sub('', ' '.join(text_words))\n",
        "\n",
        "filtered_word_tokens = filtered_text_words.split(' ')\n",
        "\n",
        "words_frequency = FreqDist(filtered_word_tokens)\n",
        "popular_words = sorted(words_frequency, key = words_frequency.get, reverse = True)\n",
        "top_words = popular_words[:top_N]\n",
        "print(top_words)"
      ],
      "execution_count": null,
      "outputs": [
        {
          "output_type": "stream",
          "name": "stdout",
          "text": [
            "['financial', 'group', 'report', 'value', 'risk', 'annual', 'insurance', 'management', 'investment', 'assets', 'business', 'million', 'board', 'document', 'registration', 'statements', 'universal', 'including', 'shares', 'fair']\n"
          ]
        }
      ]
    },
    {
      "cell_type": "markdown",
      "metadata": {
        "id": "SYBZN8iSNkDc"
      },
      "source": [
        "### Visualize the top N words"
      ]
    },
    {
      "cell_type": "code",
      "metadata": {
        "colab": {
          "base_uri": "https://localhost:8080/",
          "height": 605
        },
        "id": "4prKz__5EGW9",
        "outputId": "74853178-005a-4774-a674-56701bd16ea8"
      },
      "source": [
        "# Prepare plots data\n",
        "words_dict = dict(words_frequency)\n",
        "plot_words = { your_key: words_dict[your_key] for your_key in top_words }\n",
        "\n",
        "# Bar plot\n",
        "plt.bar(*zip(*plot_words.items()))\n",
        "plt.xticks(rotation=90)\n",
        "plt.xlabel(\"Keywords\")\n",
        "plt.ylabel(\"Occurrences\")\n",
        "\n",
        "plt.show()\n",
        "\n",
        "# Word cloud plot\n",
        "wc = WordCloud(\n",
        "    background_color=\"white\",\n",
        "    width=1500,\n",
        "    height=1000,\n",
        "    max_words=top_N,\n",
        "    relative_scaling=0.5,\n",
        "    normalize_plurals=False\n",
        "  ).generate_from_frequencies(plot_words)\n",
        "\n",
        "plt.imshow(wc)"
      ],
      "execution_count": null,
      "outputs": [
        {
          "output_type": "display_data",
          "data": {
            "image/png": "[encoded data removed]",
            "text/plain": [
              "<Figure size 432x288 with 1 Axes>"
            ]
          },
          "metadata": {
            "needs_background": "light"
          }
        },
        {
          "output_type": "execute_result",
          "data": {
            "text/plain": [
              "<matplotlib.image.AxesImage at 0x7f2d96d77690>"
            ]
          },
          "metadata": {},
          "execution_count": 10
        },
        {
          "output_type": "display_data",
          "data": {
            "image/png": "[encoded data removed]",
            "text/plain": [
              "<Figure size 432x288 with 1 Axes>"
            ]
          },
          "metadata": {
            "needs_background": "light"
          }
        }
      ]
    },
    {
      "cell_type": "markdown",
      "metadata": {
        "id": "148eBxlUEGC-"
      },
      "source": [
        "## Sustainability factors"
      ]
    },
    {
      "cell_type": "markdown",
      "metadata": {
        "id": "Z856zuSgEF8C"
      },
      "source": [
        "### Import sustainability keyword buckets"
      ]
    },
    {
      "cell_type": "code",
      "metadata": {
        "colab": {
          "base_uri": "https://localhost:8080/"
        },
        "id": "WRpLweK0HWxs",
        "outputId": "a6e6b15d-29bc-4d6a-9c3a-cf2591e96f8d"
      },
      "source": [
        "col_list = [\"Keywords\", \"ENVIRONMENTAL BUCKET\", \"SOCIAL BUCKET\", \"ECONOMIC BUCKET\", \"INSTITUTIONAL BUCKET\"]\n",
        "df = pd.read_csv(\"__sustainability_keywords.csv\", delimiter=\",\")\n",
        "\n",
        "keywords_dict = dict()\n",
        "keywords_dict[\"ENVIRONMENTAL BUCKET\"] = list({col: df[\"ENVIRONMENTAL BUCKET\"].dropna().values for col in df[\"ENVIRONMENTAL BUCKET\"]})\n",
        "keywords_dict[\"SOCIAL BUCKET\"] = list({col: df[\"SOCIAL BUCKET\"].dropna().values for col in df[\"SOCIAL BUCKET\"]})\n",
        "keywords_dict[\"ECONOMIC BUCKET\"] = list({col: df[\"ECONOMIC BUCKET\"].dropna().values for col in df[\"ECONOMIC BUCKET\"]})\n",
        "keywords_dict[\"INSTITUTIONAL BUCKET\"] = list({col: df[\"INSTITUTIONAL BUCKET\"].dropna().values for col in df[\"INSTITUTIONAL BUCKET\"]})\n",
        "\n",
        "print(\"ENVIRONMENTAL: \",keywords_dict[\"ENVIRONMENTAL BUCKET\"])\n",
        "print(\"SOCIAL: \", keywords_dict[\"SOCIAL BUCKET\"])\n",
        "print(\"ECONOMIC: \", keywords_dict[\"ECONOMIC BUCKET\"])\n",
        "print(\"INSTITUTIONAL: \", keywords_dict[\"INSTITUTIONAL BUCKET\"])"
      ],
      "execution_count": null,
      "outputs": [
        {
          "output_type": "stream",
          "name": "stdout",
          "text": [
            "ENVIRONMENTAL:  ['air', 'biodegradable', 'biodiesel', 'biomass', 'carbon', 'change', 'circular', 'climate', 'composting', 'conscious', 'conservation', 'cycling', 'decarbonization', 'deforestation', 'dioxide', 'ecological ', 'efficient', 'emissions', 'energy', 'environmental', 'footprint', 'freecycle', 'friendly', 'gas', 'green', 'greenhouse', 'greenwashing', 'impact', 'nature', 'neutrality', 'noise', 'offsets', 'organic', 'positive', 'power', 'preservation', 'reclaimed', 'recycle', 'recycling', 'reduce', 'reforestation', 'remineralize', 'renewable', 'resources', 'sustainability', 'vegan', 'warming', 'waste', 'water', nan]\n",
            "SOCIAL:  ['charity', 'diversity', 'employees', 'equality', 'ethical', 'fair trade', 'gender', 'job ', 'people', 'responsible', 'safety', 'stability', 'sustainability', 'Women', 'sustainable', 'employee', 'goodwill', nan]\n",
            "ECONOMIC:  ['byproduct', 'consumer', 'CPG', 'EFRAG', 'EMAS ', 'fair', 'GRI', 'kpi', 'package', 'preservation', 'resource', 'responsible', 'sustainability', 'trade', 'sustainable', 'preserve', nan]\n",
            "INSTITUTIONAL:  ['EFRAG', 'EMAS', 'GRI', 'IIRC', 'initiative', 'ISO ', 'performance', 'SASB', 'Standards', 'sustainability ', 'sustainable', nan]\n"
          ]
        }
      ]
    },
    {
      "cell_type": "markdown",
      "metadata": {
        "id": "CM9FXOPbgrcw"
      },
      "source": [
        "### Normalization and Stemming"
      ]
    },
    {
      "cell_type": "markdown",
      "metadata": {
        "id": "ot6XpAirUKIz"
      },
      "source": [
        "#### Applied to the keywords list\n",
        "\n",
        "For the normalization part, we will only ensure that all the keywords are lower cased. Meanwhile, for the stemming process, we will use the NLTK Porter Stemmer in order to find the root of the keywords."
      ]
    },
    {
      "cell_type": "code",
      "metadata": {
        "colab": {
          "base_uri": "https://localhost:8080/"
        },
        "id": "RiuN4Kg10qeU",
        "outputId": "5ade4ed9-466d-453a-81be-96eaf0bc923b"
      },
      "source": [
        "porter = nltk.PorterStemmer()\n",
        "\n",
        "normalized_kw_dict = dict()\n",
        "normalized_kw_dict[\"ENVIRONMENTAL BUCKET\"] = [porter.stem(str(t).lower()) for t in keywords_dict[\"ENVIRONMENTAL BUCKET\"] if not str(t) == 'nan']\n",
        "normalized_kw_dict[\"SOCIAL BUCKET\"] = [porter.stem(str(t).lower()) for t in keywords_dict[\"SOCIAL BUCKET\"] if not str(t) == 'nan']\n",
        "normalized_kw_dict[\"ECONOMIC BUCKET\"] = [porter.stem(str(t).lower()) for t in keywords_dict[\"ECONOMIC BUCKET\"] if not str(t) == 'nan']\n",
        "normalized_kw_dict[\"INSTITUTIONAL BUCKET\"] = [porter.stem(str(t).lower()) for t in keywords_dict[\"INSTITUTIONAL BUCKET\"] if not str(t) == 'nan']\n",
        "\n",
        "\n",
        "print(normalized_kw_dict)"
      ],
      "execution_count": null,
      "outputs": [
        {
          "output_type": "stream",
          "name": "stdout",
          "text": [
            "{'ENVIRONMENTAL BUCKET': ['air', 'biodegrad', 'biodiesel', 'biomass', 'carbon', 'chang', 'circular', 'climat', 'compost', 'consciou', 'conserv', 'cycl', 'decarbon', 'deforest', 'dioxid', 'ecological ', 'effici', 'emiss', 'energi', 'environment', 'footprint', 'freecycl', 'friendli', 'ga', 'green', 'greenhous', 'greenwash', 'impact', 'natur', 'neutral', 'nois', 'offset', 'organ', 'posit', 'power', 'preserv', 'reclaim', 'recycl', 'recycl', 'reduc', 'reforest', 'reminer', 'renew', 'resourc', 'sustain', 'vegan', 'warm', 'wast', 'water'], 'SOCIAL BUCKET': ['chariti', 'divers', 'employe', 'equal', 'ethic', 'fair trad', 'gender', 'job ', 'peopl', 'respons', 'safeti', 'stabil', 'sustain', 'women', 'sustain', 'employe', 'goodwil'], 'ECONOMIC BUCKET': ['byproduct', 'consum', 'cpg', 'efrag', 'emas ', 'fair', 'gri', 'kpi', 'packag', 'preserv', 'resourc', 'respons', 'sustain', 'trade', 'sustain', 'preserv'], 'INSTITUTIONAL BUCKET': ['efrag', 'ema', 'gri', 'iirc', 'initi', 'iso ', 'perform', 'sasb', 'standard', 'sustainability ', 'sustain']}\n"
          ]
        }
      ]
    },
    {
      "cell_type": "markdown",
      "metadata": {
        "id": "2eMOemMBYu4L"
      },
      "source": [
        "#### And to the PDF text\n",
        "\n",
        "In order to count the occurences of the root words of our sustainability keywords we need to also Stem the PDF text. the normalization has already been done at the previous steps."
      ]
    },
    {
      "cell_type": "code",
      "metadata": {
        "colab": {
          "base_uri": "https://localhost:8080/"
        },
        "id": "dXudporsZYzx",
        "outputId": "041e19fa-4692-4daf-fa2c-6235b0d4ad7f"
      },
      "source": [
        "stemmed_text_words = [porter.stem(w) for w in filtered_word_tokens]\n",
        "print(stemmed_text_words[0:10])"
      ],
      "execution_count": null,
      "outputs": [
        {
          "output_type": "stream",
          "name": "stdout",
          "text": [
            "['univers', 'registr', 'document', 'annual', 'financi', 'report', 'content', 'certain', 'preliminari', 'inform']\n"
          ]
        }
      ]
    },
    {
      "cell_type": "markdown",
      "metadata": {
        "id": "oIE75FWInCbo"
      },
      "source": [
        "### Counting words"
      ]
    },
    {
      "cell_type": "markdown",
      "metadata": {
        "id": "i8uOjUC3DaHD"
      },
      "source": [
        "#### Counting vocabulary of words"
      ]
    },
    {
      "cell_type": "code",
      "metadata": {
        "colab": {
          "base_uri": "https://localhost:8080/"
        },
        "id": "yZmpW3hjDaHE",
        "outputId": "8162a908-0cc4-4840-c15a-672ccb0020cf"
      },
      "source": [
        "words_frequency = FreqDist(stemmed_text_words)\n",
        "print(\"Total unique words after cleaning: \", len(words_frequency))\n",
        "print(\"Total words after stemming: \", len(stemmed_text_words))"
      ],
      "execution_count": null,
      "outputs": [
        {
          "output_type": "stream",
          "name": "stdout",
          "text": [
            "Total unique words after cleaning:  9442\n",
            "Total words after stemming:  126045\n"
          ]
        }
      ]
    },
    {
      "cell_type": "markdown",
      "metadata": {
        "id": "R-IjSUy5DaHH"
      },
      "source": [
        "#### Frequency of sustainability keywords"
      ]
    },
    {
      "cell_type": "code",
      "metadata": {
        "colab": {
          "base_uri": "https://localhost:8080/"
        },
        "id": "I4QRSyLdgFxt",
        "outputId": "22c8b670-6e05-46ca-8a28-b424463449d2"
      },
      "source": [
        "environmental_kw_counter = 0\n",
        "social_kw_counter = 0\n",
        "institutional_kw_counter = 0\n",
        "economic_kw_counter = 0\n",
        "\n",
        "environmental_kw_map_counter = dict()\n",
        "social_kw_map_counter = dict()\n",
        "institutional_kw_map_counter = dict()\n",
        "economic_kw_map_counter = dict()\n",
        "\n",
        "for w in words_frequency:\n",
        "  if w in normalized_kw_dict[\"ENVIRONMENTAL BUCKET\"]:\n",
        "    environmental_kw_map_counter[w] = words_frequency[w]\n",
        "    environmental_kw_counter += words_frequency[w]\n",
        "  if w in normalized_kw_dict[\"SOCIAL BUCKET\"]:\n",
        "    social_kw_map_counter[w] = words_frequency[w]\n",
        "    social_kw_counter += words_frequency[w]\n",
        "  if w in normalized_kw_dict[\"INSTITUTIONAL BUCKET\"]:\n",
        "    institutional_kw_map_counter[w] = words_frequency[w]\n",
        "    institutional_kw_counter += words_frequency[w]\n",
        "  if w in normalized_kw_dict[\"ECONOMIC BUCKET\"]:\n",
        "    economic_kw_map_counter[w] = words_frequency[w]\n",
        "    economic_kw_counter += words_frequency[w]\n",
        "\n",
        "print(\"Total keywords count for ENVIRONMENTAL keywords: \", environmental_kw_counter)\n",
        "print(len(environmental_kw_map_counter), \" unique keywords used out of \", len(normalized_kw_dict[\"ENVIRONMENTAL BUCKET\"]))\n",
        "print(environmental_kw_map_counter)\n",
        "\n",
        "print(\"Total keywords count for SOCIAL keywords: \", social_kw_counter)\n",
        "print(len(social_kw_map_counter), \" unique keywords used out of \", len(normalized_kw_dict[\"SOCIAL BUCKET\"]))\n",
        "print(social_kw_map_counter)\n",
        "\n",
        "print(\"Total keywords count for INSTITUTIONAL keywords: \", institutional_kw_counter)\n",
        "print(len(institutional_kw_map_counter), \" unique keywords used out of \", len(normalized_kw_dict[\"INSTITUTIONAL BUCKET\"]))\n",
        "print(institutional_kw_map_counter)\n",
        "\n",
        "print(\"Total keywords count for ECONOMIC keywords: \", economic_kw_counter)\n",
        "print(len(economic_kw_map_counter), \" unique keywords used out of \", len(normalized_kw_dict[\"ECONOMIC BUCKET\"]))\n",
        "print(economic_kw_map_counter)"
      ],
      "execution_count": null,
      "outputs": [
        {
          "output_type": "stream",
          "name": "stdout",
          "text": [
            "Total keywords count for ENVIRONMENTAL keywords:  2330\n",
            "34  unique keywords used out of  49\n",
            "{'resourc': 48, 'sustain': 127, 'climat': 143, 'chang': 553, 'posit': 235, 'organ': 66, 'natur': 99, 'impact': 488, 'renew': 29, 'environment': 78, 'reduc': 79, 'effici': 3, 'energi': 52, 'cycl': 10, 'water': 16, 'green': 31, 'greenhous': 6, 'emiss': 63, 'footprint': 39, 'warm': 6, 'offset': 6, 'neutral': 17, 'power': 47, 'air': 2, 'carbon': 37, 'preserv': 10, 'consciou': 1, 'deforest': 1, 'decarbon': 1, 'conserv': 7, 'wast': 18, 'friendli': 1, 'recycl': 10, 'circular': 1}\n",
            "Total keywords count for SOCIAL keywords:  1089\n",
            "13  unique keywords used out of  17\n",
            "{'sustain': 127, 'respons': 259, 'employe': 353, 'peopl': 36, 'safeti': 14, 'divers': 46, 'ethic': 24, 'stabil': 12, 'goodwil': 84, 'women': 46, 'gender': 25, 'chariti': 2, 'equal': 61}\n",
            "Total keywords count for INSTITUTIONAL keywords:  1012\n",
            "4  unique keywords used out of  11\n",
            "{'sustain': 127, 'standard': 158, 'perform': 566, 'initi': 161}\n",
            "Total keywords count for ECONOMIC keywords:  1032\n",
            "9  unique keywords used out of  16\n",
            "{'resourc': 48, 'sustain': 127, 'respons': 259, 'trade': 75, 'consum': 20, 'packag': 8, 'fair': 481, 'kpi': 4, 'preserv': 10}\n"
          ]
        }
      ]
    },
    {
      "cell_type": "markdown",
      "metadata": {
        "id": "V5ZL13VLrB1J"
      },
      "source": [
        "#### Visualize the numbers"
      ]
    },
    {
      "cell_type": "markdown",
      "metadata": {
        "id": "fCcQW_qAE3yf"
      },
      "source": [
        "##### Overall Distribution"
      ]
    },
    {
      "cell_type": "markdown",
      "metadata": {
        "id": "Xky0jbZ61i7v"
      },
      "source": [
        "First, let's see an overall distribution of the keywords to understand where the majority of keyword occurences come from (from which Sustainability category).\n",
        "\n",
        "We apply a formula in order to compute the pie slices corresponding to each bucket:\n",
        "\n",
        "`(TOTAL_KEYWORD_COUNTS * 100 / TOTAL_UNIQUE_REPORT_WORDS) * (DIFFERENT_KEYWORDS_FROM_BUCKET_USED * 100 / TOTAL_DISTINCT_KEYWORDS_FROM_BUCKET)`"
      ]
    },
    {
      "cell_type": "code",
      "metadata": {
        "colab": {
          "base_uri": "https://localhost:8080/",
          "height": 248
        },
        "id": "4Lq2pqH11jQA",
        "outputId": "9b82073a-ce0e-4644-e6ed-9a981ad39dac"
      },
      "source": [
        "labels= ['ENVIORNMENTAL', 'SOCIAL', 'INSTITUTIONAL', 'ECONOMIC']\n",
        "colors=['blue', 'yellow', 'green', 'orange']\n",
        "\n",
        "sizes= [\n",
        "        (environmental_kw_counter * 100 ) /len(stemmed_text_words) * (((len(environmental_kw_map_counter) * 100 ) / len(normalized_kw_dict[\"ENVIRONMENTAL BUCKET\"]))),\n",
        "        (social_kw_counter * 100 ) /len(stemmed_text_words) * (((len(social_kw_map_counter) * 100 ) / len(normalized_kw_dict[\"SOCIAL BUCKET\"]))),\n",
        "        (institutional_kw_counter * 100 ) /len(stemmed_text_words) * (((len(institutional_kw_map_counter) * 100 ) / len(normalized_kw_dict[\"INSTITUTIONAL BUCKET\"]))),\n",
        "        (economic_kw_counter * 100 ) /len(stemmed_text_words) * (((len(economic_kw_map_counter) * 100 ) / len(normalized_kw_dict[\"ECONOMIC BUCKET\"])))\n",
        "      ]\n",
        "\n",
        "plt.pie(sizes,labels=labels, colors=colors, startangle=90 ,  autopct='%.1f%%')\n",
        "plt.axis('equal')\n",
        "plt.show()"
      ],
      "execution_count": null,
      "outputs": [
        {
          "output_type": "display_data",
          "data": {
            "image/png": "[encoded data removed]",
            "text/plain": [
              "<Figure size 432x288 with 1 Axes>"
            ]
          },
          "metadata": {}
        }
      ]
    },
    {
      "cell_type": "markdown",
      "metadata": {
        "id": "gbLSObQ0FAwu"
      },
      "source": [
        "##### Top 5 words from each bucket"
      ]
    },
    {
      "cell_type": "markdown",
      "metadata": {
        "id": "SQ6lsRnbGzCu"
      },
      "source": [
        "###### Top words from Environmental bucket"
      ]
    },
    {
      "cell_type": "code",
      "metadata": {
        "colab": {
          "base_uri": "https://localhost:8080/",
          "height": 305
        },
        "id": "hq7S-NVMrCWq",
        "outputId": "9d6f7bcb-55e0-4aac-8924-723925b13d09"
      },
      "source": [
        "popular_words = sorted(environmental_kw_map_counter, key = environmental_kw_map_counter.get, reverse = True)\n",
        "top_words = popular_words[:5]\n",
        "\n",
        "# Prepare plots data\n",
        "words_dict = dict(words_frequency)\n",
        "plot_words = { your_key: environmental_kw_map_counter[your_key] for your_key in top_words }\n",
        "\n",
        "# Bar plot\n",
        "plt.bar(*zip(*plot_words.items()))\n",
        "plt.xticks(rotation=90)\n",
        "plt.xlabel(\"Keywords\")\n",
        "plt.ylabel(\"Occurrences\")\n",
        "plt.show()"
      ],
      "execution_count": null,
      "outputs": [
        {
          "output_type": "display_data",
          "data": {
            "image/png": "[encoded data removed]",
            "text/plain": [
              "<Figure size 432x288 with 1 Axes>"
            ]
          },
          "metadata": {
            "needs_background": "light"
          }
        }
      ]
    },
    {
      "cell_type": "markdown",
      "metadata": {
        "id": "gIY1KQfXGoIm"
      },
      "source": [
        "###### Top words from Social bucket"
      ]
    },
    {
      "cell_type": "code",
      "metadata": {
        "colab": {
          "base_uri": "https://localhost:8080/",
          "height": 312
        },
        "id": "qdtYiX4EGoeJ",
        "outputId": "9b298863-d513-45fa-ed3e-4130648721ae"
      },
      "source": [
        "popular_words = sorted(social_kw_map_counter, key = social_kw_map_counter.get, reverse = True)\n",
        "top_words = popular_words[:5]\n",
        "\n",
        "# Prepare plots data\n",
        "words_dict = dict(words_frequency)\n",
        "plot_words = { your_key: social_kw_map_counter[your_key] for your_key in top_words }\n",
        "\n",
        "# Bar plot\n",
        "plt.bar(*zip(*plot_words.items()))\n",
        "plt.xticks(rotation=90)\n",
        "plt.xlabel(\"Keywords\")\n",
        "plt.ylabel(\"Occurrences\")\n",
        "plt.show()"
      ],
      "execution_count": null,
      "outputs": [
        {
          "output_type": "display_data",
          "data": {
            "image/png": "[encoded data removed]",
            "text/plain": [
              "<Figure size 432x288 with 1 Axes>"
            ]
          },
          "metadata": {
            "needs_background": "light"
          }
        }
      ]
    },
    {
      "cell_type": "markdown",
      "metadata": {
        "id": "bnE__3HdHKer"
      },
      "source": [
        "###### Top words from Institutional bucket"
      ]
    },
    {
      "cell_type": "code",
      "metadata": {
        "colab": {
          "base_uri": "https://localhost:8080/",
          "height": 314
        },
        "id": "wtav_uRKHLRH",
        "outputId": "75d989ff-4ecd-4c0a-fefd-306a726249b8"
      },
      "source": [
        "popular_words = sorted(institutional_kw_map_counter, key = institutional_kw_map_counter.get, reverse = True)\n",
        "top_words = popular_words[:5]\n",
        "\n",
        "# Prepare plots data\n",
        "words_dict = dict(words_frequency)\n",
        "plot_words = { your_key: institutional_kw_map_counter[your_key] for your_key in top_words }\n",
        "\n",
        "# Bar plot\n",
        "plt.bar(*zip(*plot_words.items()))\n",
        "plt.xticks(rotation=90)\n",
        "plt.xlabel(\"Keywords\")\n",
        "plt.ylabel(\"Occurrences\")\n",
        "plt.show()"
      ],
      "execution_count": null,
      "outputs": [
        {
          "output_type": "display_data",
          "data": {
            "image/png": "[encoded data removed]",
            "text/plain": [
              "<Figure size 432x288 with 1 Axes>"
            ]
          },
          "metadata": {
            "needs_background": "light"
          }
        }
      ]
    },
    {
      "cell_type": "markdown",
      "metadata": {
        "id": "D7mEq9tzHccN"
      },
      "source": [
        "Top words from Economic bucket"
      ]
    },
    {
      "cell_type": "code",
      "metadata": {
        "colab": {
          "base_uri": "https://localhost:8080/",
          "height": 310
        },
        "id": "KiiOVYB_Hcq_",
        "outputId": "c9719a78-5471-491f-84c8-d7d14e5b7ed5"
      },
      "source": [
        "popular_words = sorted(economic_kw_map_counter, key = economic_kw_map_counter.get, reverse = True)\n",
        "top_words = popular_words[:5]\n",
        "\n",
        "# Prepare plots data\n",
        "words_dict = dict(words_frequency)\n",
        "plot_words = { your_key: economic_kw_map_counter[your_key] for your_key in top_words }\n",
        "\n",
        "# Bar plot\n",
        "plt.bar(*zip(*plot_words.items()))\n",
        "plt.xticks(rotation=90)\n",
        "plt.xlabel(\"Keywords\")\n",
        "plt.ylabel(\"Occurrences\")\n",
        "plt.show()"
      ],
      "execution_count": null,
      "outputs": [
        {
          "output_type": "display_data",
          "data": {
            "image/png": "[encoded data removed]",
            "text/plain": [
              "<Figure size 432x288 with 1 Axes>"
            ]
          },
          "metadata": {
            "needs_background": "light"
          }
        }
      ]
    },
    {
      "cell_type": "markdown",
      "metadata": {
        "id": "5esNRR6QZdUZ"
      },
      "source": [
        "## Stemming small example"
      ]
    },
    {
      "cell_type": "markdown",
      "metadata": {
        "id": "nRI5IPCHZi6h"
      },
      "source": [
        "In order to better understand why we chose Porter Stemmer and the stemmer step, below is an example of what it does."
      ]
    },
    {
      "cell_type": "code",
      "metadata": {
        "colab": {
          "base_uri": "https://localhost:8080/"
        },
        "id": "_qvb7PZPDaHL",
        "outputId": "b6ecf54b-4c0a-47b8-dac6-ff7866df0099"
      },
      "source": [
        "input1 = \"List listed lists listing listings\"\n",
        "words1 = input1.lower().split(' ')\n",
        "words1"
      ],
      "execution_count": null,
      "outputs": [
        {
          "output_type": "execute_result",
          "data": {
            "text/plain": [
              "['list', 'listed', 'lists', 'listing', 'listings']"
            ]
          },
          "metadata": {},
          "execution_count": 64
        }
      ]
    },
    {
      "cell_type": "code",
      "metadata": {
        "colab": {
          "base_uri": "https://localhost:8080/"
        },
        "id": "RbjrkAWXDaHL",
        "outputId": "831206d5-585a-46e1-9795-8e9f4a0f3075"
      },
      "source": [
        "porter = nltk.PorterStemmer()\n",
        "[porter.stem(t) for t in words1]"
      ],
      "execution_count": null,
      "outputs": [
        {
          "output_type": "execute_result",
          "data": {
            "text/plain": [
              "['list', 'list', 'list', 'list', 'list']"
            ]
          },
          "metadata": {},
          "execution_count": 65
        }
      ]
    }
  ]
}